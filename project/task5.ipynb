{
 "cells": [
  {
   "cell_type": "markdown",
   "metadata": {},
   "source": [
    "# Постановка задачи\n",
    "\n",
    "**Тема**: Анализ производительности алгоритма решения задачи достижимости.\n",
    "\n",
    "**Цель**: Исследовать эффективность алгоритма для различных вариантов представления разреженных матриц и векторов, а также определить оптимальный размер стартового множества для достижения наилучшей производительности.\n",
    "\n",
    "**Задачи**:\n",
    "1. Исследование следующих задач достижимости:\n",
    "    1. Достижимость между всеми парами вершин.\n",
    "    2. Достижимость для каждой из заданного множества стартовых вершин.\n",
    "2. Выбор оптимального для решения задачи представления разреженных матриц и векторов (csr, coo, dia, dok, lil).\n",
    "3. Определение оптимального размера множества стартовых вершин."
   ]
  },
  {
   "cell_type": "markdown",
   "metadata": {},
   "source": [
    "# Описание решений\n",
    "В рамках задачи будут исследованы два алгоритма решения задач достижимости: \n",
    "## Tensor based RPQ\n",
    "Получает на вход граф, набор стартовых и конечных вершин, а также регулярное выражение. Строит конечные автоматы по графу и регулярному выражению. Затем с помощью транзитивного замыкания находит матрицу смежности, через которую и проверяется достижимость в пересечённом автомате.\n",
    "## Multiple source BFS based RPQ\n",
    "Получает на вход граф, набор стартовых и конечных вершин, а также регулярное выражение. Определяет достижимость через обход в ширину, основанный на линейной алгебре. Автомат графа и регулярного выражения одновременно обходятся, фронт записывает в виде матрицы, куда последовательно добавляются значения. Один раз перемножая эту матрицу на матрицу смежности, совершается один обход. Когда процесс обходов завершается (фронт становится пустым), нужные пары стартовых и конечных вершин достаются из матрицы с посещёнными состояниями."
   ]
  },
  {
   "cell_type": "markdown",
   "metadata": {},
   "source": [
    "# Набор данных\n",
    "## Графы\n",
    "- Граф [wc](https://formallanguageconstrainedpathquerying.github.io/CFPQ_Data/graphs/data/wc.html#wc) содержит небольшое число вершин (332) и рёбер (269), относительно других графов из набора.\n",
    "- Граф [ls](https://formallanguageconstrainedpathquerying.github.io/CFPQ_Data/graphs/data/ls.html#ls) содержит среднее число вершин (1687) и рёбер (1453), относительно других графов из набора. \n",
    "## Запросы\n",
    "Были выбраны так, чтобы охватить все общепринятые конструкции регулярных выражений\n",
    "- 'a a a d d'\n",
    "- 'a* d*'\n",
    "- '(a | d)*'\n",
    "- (a* | b*)"
   ]
  },
  {
   "cell_type": "code",
   "execution_count": 1,
   "metadata": {},
   "outputs": [
    {
     "name": "stderr",
     "output_type": "stream",
     "text": [
      "[2024-10-12 14:34:10]>INFO>Found graph with name='wc'\n",
      "[2024-10-12 14:34:10]>INFO>Load archive graph_archive=PosixPath('/home/dmitriy/dev/formal-languages/.venv/lib/python3.12/site-packages/cfpq_data/data/graphs/wc.tar.gz')\n",
      "[2024-10-12 14:34:10]>INFO>Unzip graph name='wc' to file graph=PosixPath('/home/dmitriy/dev/formal-languages/.venv/lib/python3.12/site-packages/cfpq_data/data/graphs/wc/wc.csv')\n",
      "[2024-10-12 14:34:10]>INFO>Remove archive graph_archive=PosixPath('/home/dmitriy/dev/formal-languages/.venv/lib/python3.12/site-packages/cfpq_data/data/graphs/wc.tar.gz')\n",
      "[2024-10-12 14:34:10]>INFO>Load graph=<networkx.classes.multidigraph.MultiDiGraph object at 0x7f4d65df4ec0> from path=PosixPath('/home/dmitriy/dev/formal-languages/.venv/lib/python3.12/site-packages/cfpq_data/data/graphs/wc/wc.csv')\n",
      "[2024-10-12 14:34:10]>INFO>Construct labels_frequency=defaultdict(<class 'int'>, {'a': 113, 'd': 156}) for graph=<networkx.classes.multidigraph.MultiDiGraph object at 0x7f4d65df4ec0>\n",
      "[2024-10-12 14:34:10]>INFO>Sort edge labels=['d', 'a'] of graph=<networkx.classes.multidigraph.MultiDiGraph object at 0x7f4d65df4ec0>\n",
      "[2024-10-12 14:34:10]>INFO>Found graph with name='ls'\n",
      "[2024-10-12 14:34:10]>INFO>Load archive graph_archive=PosixPath('/home/dmitriy/dev/formal-languages/.venv/lib/python3.12/site-packages/cfpq_data/data/graphs/ls.tar.gz')\n",
      "[2024-10-12 14:34:10]>INFO>Unzip graph name='ls' to file graph=PosixPath('/home/dmitriy/dev/formal-languages/.venv/lib/python3.12/site-packages/cfpq_data/data/graphs/ls/ls.csv')\n",
      "[2024-10-12 14:34:10]>INFO>Remove archive graph_archive=PosixPath('/home/dmitriy/dev/formal-languages/.venv/lib/python3.12/site-packages/cfpq_data/data/graphs/ls.tar.gz')\n",
      "[2024-10-12 14:34:11]>INFO>Load graph=<networkx.classes.multidigraph.MultiDiGraph object at 0x7f4d7c4818e0> from path=PosixPath('/home/dmitriy/dev/formal-languages/.venv/lib/python3.12/site-packages/cfpq_data/data/graphs/ls/ls.csv')\n",
      "[2024-10-12 14:34:11]>INFO>Construct labels_frequency=defaultdict(<class 'int'>, {'d': 750, 'a': 703}) for graph=<networkx.classes.multidigraph.MultiDiGraph object at 0x7f4d7c4818e0>\n",
      "[2024-10-12 14:34:11]>INFO>Sort edge labels=['d', 'a'] of graph=<networkx.classes.multidigraph.MultiDiGraph object at 0x7f4d7c4818e0>\n"
     ]
    }
   ],
   "source": [
    "from grapher import GraphData\n",
    "import cfpq_data\n",
    "\n",
    "graphs = {'wc': GraphData('wc'), 'ls': GraphData('ls')}\n",
    "regexes = ['a a a d d', 'a* d*', '(a | d)*', '(a* | b*)'] # same for both graphs"
   ]
  },
  {
   "cell_type": "markdown",
   "metadata": {},
   "source": [
    "# Эксперимент\n",
    "## Оборудование\n",
    "- **OS**: Ubuntu 24.04.1 LTS on Windows 10 x86_64\n",
    "- **CPU**: 11th Gen Intel i7-1165G7 (8) @ 2.803GHz\n",
    "- **Memory**: 16 GB, 3200 MT/s, 2 slots\n",
    "## Измерения\n",
    "В ходе эксперимента отслеживались следующие параметры:\n",
    "- Тип алгоритма\n",
    "- Тип графа (wc, ls)\n",
    "- Регулярное выражение\n",
    "- Размер множества начальных вершин (5%, 10% 20%, 30% от общего числа вершин)\n",
    "- Тип матриц и векторов (coo, csr, dia, dok, lil)\n",
    "- Время выполнения на этих данных (в долях секунды)\n",
    "\n"
   ]
  },
  {
   "cell_type": "code",
   "execution_count": 12,
   "metadata": {},
   "outputs": [
    {
     "name": "stderr",
     "output_type": "stream",
     "text": [
      "[2024-10-12 14:45:44]>INFO>Generate set of source vertices of 16 nodes for graph=<networkx.classes.multidigraph.MultiDiGraph object at 0x7f4d65df4ec0> for multiple-source evaluation\n"
     ]
    },
    {
     "ename": "KeyboardInterrupt",
     "evalue": "",
     "output_type": "error",
     "traceback": [
      "\u001b[0;31m---------------------------------------------------------------------------\u001b[0m",
      "\u001b[0;31mKeyboardInterrupt\u001b[0m                         Traceback (most recent call last)",
      "Cell \u001b[0;32mIn[12], line 42\u001b[0m\n\u001b[1;32m     40\u001b[0m \u001b[38;5;28;01mfor\u001b[39;00m sparse_type \u001b[38;5;129;01min\u001b[39;00m sparse_types:\n\u001b[1;32m     41\u001b[0m     t_start \u001b[38;5;241m=\u001b[39m time\u001b[38;5;241m.\u001b[39mperf_counter()\n\u001b[0;32m---> 42\u001b[0m     \u001b[43mtensor_based_rpq\u001b[49m\u001b[43m(\u001b[49m\u001b[43mregex\u001b[49m\u001b[43m,\u001b[49m\u001b[43m \u001b[49m\u001b[43mgraph\u001b[49m\u001b[43m,\u001b[49m\u001b[43m \u001b[49m\u001b[43mstart_nodes\u001b[49m\u001b[43m,\u001b[49m\u001b[43m \u001b[49m\u001b[43mend_nodes\u001b[49m\u001b[43m,\u001b[49m\u001b[43m \u001b[49m\u001b[43msparse_type\u001b[49m\u001b[43m[\u001b[49m\u001b[38;5;241;43m1\u001b[39;49m\u001b[43m]\u001b[49m\u001b[43m,\u001b[49m\u001b[43m \u001b[49m\u001b[43msparse_type\u001b[49m\u001b[43m[\u001b[49m\u001b[38;5;241;43m0\u001b[39;49m\u001b[43m]\u001b[49m\u001b[43m)\u001b[49m\n\u001b[1;32m     43\u001b[0m     t_end \u001b[38;5;241m=\u001b[39m time\u001b[38;5;241m.\u001b[39mperf_counter()\n\u001b[1;32m     45\u001b[0m     results[\u001b[38;5;124m'\u001b[39m\u001b[38;5;124mAlgo\u001b[39m\u001b[38;5;124m'\u001b[39m]\u001b[38;5;241m.\u001b[39mappend(\u001b[38;5;124m'\u001b[39m\u001b[38;5;124mTensor Based RPQ\u001b[39m\u001b[38;5;124m'\u001b[39m)\n",
      "File \u001b[0;32m~/dev/formal-languages/project/task5.py:161\u001b[0m, in \u001b[0;36mtensor_based_rpq\u001b[0;34m(regex, graph, start_nodes, final_nodes, array_type, format)\u001b[0m\n\u001b[1;32m    158\u001b[0m new_mfa \u001b[38;5;241m=\u001b[39m intersect_automata(mfa1, mfa2, \u001b[38;5;28mformat\u001b[39m, array_type)\n\u001b[1;32m    160\u001b[0m \u001b[38;5;66;03m# complementation of languages\u001b[39;00m\n\u001b[0;32m--> 161\u001b[0m adj_matrix \u001b[38;5;241m=\u001b[39m \u001b[43mnew_mfa\u001b[49m\u001b[38;5;241;43m.\u001b[39;49m\u001b[43mtransitive_сlosure\u001b[49m\u001b[43m(\u001b[49m\u001b[43m)\u001b[49m\n\u001b[1;32m    163\u001b[0m pairs: \u001b[38;5;28mset\u001b[39m[\u001b[38;5;28mtuple\u001b[39m[\u001b[38;5;28mint\u001b[39m, \u001b[38;5;28mint\u001b[39m]] \u001b[38;5;241m=\u001b[39m \u001b[38;5;28mset\u001b[39m()\n\u001b[1;32m    165\u001b[0m \u001b[38;5;66;03m# [!] start_nodes & final_nodes not indexes\u001b[39;00m\n",
      "File \u001b[0;32m~/dev/formal-languages/project/task5.py:103\u001b[0m, in \u001b[0;36mAdjacencyMatrixFA.transitive_сlosure\u001b[0;34m(self)\u001b[0m\n\u001b[1;32m    101\u001b[0m     \u001b[38;5;28;01mfor\u001b[39;00m i \u001b[38;5;129;01min\u001b[39;00m \u001b[38;5;28mrange\u001b[39m(\u001b[38;5;28mself\u001b[39m\u001b[38;5;241m.\u001b[39mstates_count):\n\u001b[1;32m    102\u001b[0m         \u001b[38;5;28;01mfor\u001b[39;00m j \u001b[38;5;129;01min\u001b[39;00m \u001b[38;5;28mrange\u001b[39m(\u001b[38;5;28mself\u001b[39m\u001b[38;5;241m.\u001b[39mstates_count):\n\u001b[0;32m--> 103\u001b[0m             adj_matrix[i][j] \u001b[38;5;241m=\u001b[39m adj_matrix[i][j] \u001b[38;5;129;01mor\u001b[39;00m (\n\u001b[1;32m    104\u001b[0m                 adj_matrix[i][k] \u001b[38;5;129;01mand\u001b[39;00m adj_matrix[k][j]\n\u001b[1;32m    105\u001b[0m             )\n\u001b[1;32m    107\u001b[0m \u001b[38;5;28;01mreturn\u001b[39;00m adj_matrix\n",
      "\u001b[0;31mKeyboardInterrupt\u001b[0m: "
     ]
    }
   ],
   "source": [
    "from networkx import MultiDiGraph\n",
    "from task5 import ms_bfs_based_rpq, tensor_based_rpq\n",
    "from scipy.sparse import (\n",
    "    coo_array, csr_array, dia_array, dok_array, lil_array,\n",
    "    coo_matrix, csr_matrix, dia_matrix, dok_matrix, lil_matrix)\n",
    "import time\n",
    "import pandas as pd \n",
    "import random\n",
    "from scipy import stats\n",
    "\n",
    "sparse_types = [\n",
    "  ('coo', coo_array, coo_matrix),\n",
    "  ('csr', csr_array, csr_matrix),\n",
    "  ('dia', dia_array, dia_matrix),\n",
    "  ('dok', dok_array, dok_matrix),\n",
    "  ('lil', lil_array, lil_matrix)]\n",
    "\n",
    "results = {\n",
    "    'Algo': [], \n",
    "    'Graph Name': [], \n",
    "    'Regex': [], \n",
    "    'Start Nodes': [],\n",
    "    'Time': [], \n",
    "    'Data Type': []\n",
    "}\n",
    "\n",
    "\n",
    "for graph_name in graphs.keys():\n",
    "    graph = graphs[graph_name].graph\n",
    "\n",
    "    for regex in regexes:\n",
    "        procs = [0.05, 0.1, 0.2, 0.3] # percentage of the number of nodes\n",
    "\n",
    "        # list with start nodes counts\n",
    "        start_nodes_count = [int(len(graph.nodes) * proc) for proc in procs]\n",
    "\n",
    "        for size in start_nodes_count:\n",
    "            start_nodes = cfpq_data.generate_multiple_source(graph, size)\n",
    "            end_nodes = random.sample(list(start_nodes), random.randint(1, size))\n",
    "\n",
    "            for sparse_type in sparse_types:\n",
    "                # repeat several times\n",
    "                tensor_time = []\n",
    "                bfs_time = []\n",
    "\n",
    "                for i in range(3):\n",
    "                    t_start = time.perf_counter()\n",
    "                    tensor_based_rpq(regex, graph, start_nodes, end_nodes, sparse_type[1], sparse_type[0])\n",
    "                    t_end = time.perf_counter()\n",
    "\n",
    "                    tensor_time.append(t_end - t_start)\n",
    "\n",
    "                    t_start = time.perf_counter()\n",
    "                    ms_bfs_based_rpq(regex, graph, start_nodes, end_nodes, sparse_type[2], sparse_type[1])\n",
    "                    t_end = time.perf_counter()\n",
    "\n",
    "                    bfs_time.append(t_end - t_start)\n",
    "\n",
    "                # TODO\n",
    "                results['Algo'].append('Tensor Based RPQ')\n",
    "                results['Graph Name'].append(graph_name)\n",
    "                results['Regex'].append(regex)\n",
    "                results['Start Nodes'].append(str(size))\n",
    "                results['Time'].append(str(t_end - t_start))\n",
    "                results['Data Type'].append(sparse_type[0])\n",
    "\n",
    "                results['Algo'].append('MS-BFS Based RPQ')\n",
    "                results['Graph Name'].append(graph_name)\n",
    "                results['Regex'].append(regex)\n",
    "                results['Start Nodes'].append(str(size))\n",
    "                results['Time'].append(str(t_end - t_start))\n",
    "                results['Data Type'].append(sparse_type[0])\n",
    "\n",
    "df = pd.DataFrame(data=results)\n",
    "print(df)\n"
   ]
  }
 ],
 "metadata": {
  "kernelspec": {
   "display_name": ".venv",
   "language": "python",
   "name": "python3"
  },
  "language_info": {
   "codemirror_mode": {
    "name": "ipython",
    "version": 3
   },
   "file_extension": ".py",
   "mimetype": "text/x-python",
   "name": "python",
   "nbconvert_exporter": "python",
   "pygments_lexer": "ipython3",
   "version": "3.12.5"
  }
 },
 "nbformat": 4,
 "nbformat_minor": 2
}
